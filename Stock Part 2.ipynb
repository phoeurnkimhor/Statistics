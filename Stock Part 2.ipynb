{
 "cells": [
  {
   "cell_type": "code",
   "execution_count": 1,
   "metadata": {},
   "outputs": [],
   "source": [
    "import pandas as pd\n",
    "import numpy as np"
   ]
  },
  {
   "cell_type": "code",
   "execution_count": 2,
   "metadata": {},
   "outputs": [],
   "source": [
    "df = pd.read_excel(\"acleda.xlsx\")"
   ]
  },
  {
   "cell_type": "code",
   "execution_count": 3,
   "metadata": {},
   "outputs": [
    {
     "data": {
      "text/html": [
       "<div>\n",
       "<style scoped>\n",
       "    .dataframe tbody tr th:only-of-type {\n",
       "        vertical-align: middle;\n",
       "    }\n",
       "\n",
       "    .dataframe tbody tr th {\n",
       "        vertical-align: top;\n",
       "    }\n",
       "\n",
       "    .dataframe thead th {\n",
       "        text-align: right;\n",
       "    }\n",
       "</style>\n",
       "<table border=\"1\" class=\"dataframe\">\n",
       "  <thead>\n",
       "    <tr style=\"text-align: right;\">\n",
       "      <th></th>\n",
       "      <th>Date</th>\n",
       "      <th>Closing Price</th>\n",
       "      <th>Trading Volume (shr)</th>\n",
       "      <th>Opening</th>\n",
       "      <th>High</th>\n",
       "      <th>Low</th>\n",
       "    </tr>\n",
       "  </thead>\n",
       "  <tbody>\n",
       "    <tr>\n",
       "      <th>0</th>\n",
       "      <td>2023-05-25</td>\n",
       "      <td>10240</td>\n",
       "      <td>63438</td>\n",
       "      <td>10220</td>\n",
       "      <td>10240</td>\n",
       "      <td>10220</td>\n",
       "    </tr>\n",
       "    <tr>\n",
       "      <th>1</th>\n",
       "      <td>2023-05-24</td>\n",
       "      <td>10240</td>\n",
       "      <td>145976</td>\n",
       "      <td>10240</td>\n",
       "      <td>10240</td>\n",
       "      <td>10200</td>\n",
       "    </tr>\n",
       "    <tr>\n",
       "      <th>2</th>\n",
       "      <td>2023-05-23</td>\n",
       "      <td>10240</td>\n",
       "      <td>134363</td>\n",
       "      <td>10280</td>\n",
       "      <td>10300</td>\n",
       "      <td>10240</td>\n",
       "    </tr>\n",
       "    <tr>\n",
       "      <th>3</th>\n",
       "      <td>2023-05-22</td>\n",
       "      <td>10280</td>\n",
       "      <td>189000</td>\n",
       "      <td>10300</td>\n",
       "      <td>10320</td>\n",
       "      <td>10260</td>\n",
       "    </tr>\n",
       "    <tr>\n",
       "      <th>4</th>\n",
       "      <td>2023-05-19</td>\n",
       "      <td>10320</td>\n",
       "      <td>109609</td>\n",
       "      <td>10300</td>\n",
       "      <td>10360</td>\n",
       "      <td>10300</td>\n",
       "    </tr>\n",
       "    <tr>\n",
       "      <th>...</th>\n",
       "      <td>...</td>\n",
       "      <td>...</td>\n",
       "      <td>...</td>\n",
       "      <td>...</td>\n",
       "      <td>...</td>\n",
       "      <td>...</td>\n",
       "    </tr>\n",
       "    <tr>\n",
       "      <th>730</th>\n",
       "      <td>2020-05-29</td>\n",
       "      <td>22600</td>\n",
       "      <td>793159</td>\n",
       "      <td>22800</td>\n",
       "      <td>23600</td>\n",
       "      <td>22000</td>\n",
       "    </tr>\n",
       "    <tr>\n",
       "      <th>731</th>\n",
       "      <td>2020-05-28</td>\n",
       "      <td>21550</td>\n",
       "      <td>239030</td>\n",
       "      <td>20000</td>\n",
       "      <td>21550</td>\n",
       "      <td>20000</td>\n",
       "    </tr>\n",
       "    <tr>\n",
       "      <th>732</th>\n",
       "      <td>2020-05-27</td>\n",
       "      <td>19600</td>\n",
       "      <td>250910</td>\n",
       "      <td>17900</td>\n",
       "      <td>19660</td>\n",
       "      <td>17900</td>\n",
       "    </tr>\n",
       "    <tr>\n",
       "      <th>733</th>\n",
       "      <td>2020-05-26</td>\n",
       "      <td>17880</td>\n",
       "      <td>32246</td>\n",
       "      <td>16860</td>\n",
       "      <td>17880</td>\n",
       "      <td>16520</td>\n",
       "    </tr>\n",
       "    <tr>\n",
       "      <th>734</th>\n",
       "      <td>2020-05-25</td>\n",
       "      <td>16500</td>\n",
       "      <td>15888</td>\n",
       "      <td>16200</td>\n",
       "      <td>16800</td>\n",
       "      <td>16180</td>\n",
       "    </tr>\n",
       "  </tbody>\n",
       "</table>\n",
       "<p>735 rows × 6 columns</p>\n",
       "</div>"
      ],
      "text/plain": [
       "          Date  Closing Price  Trading Volume (shr)  Opening   High    Low\n",
       "0   2023-05-25          10240                 63438    10220  10240  10220\n",
       "1   2023-05-24          10240                145976    10240  10240  10200\n",
       "2   2023-05-23          10240                134363    10280  10300  10240\n",
       "3   2023-05-22          10280                189000    10300  10320  10260\n",
       "4   2023-05-19          10320                109609    10300  10360  10300\n",
       "..         ...            ...                   ...      ...    ...    ...\n",
       "730 2020-05-29          22600                793159    22800  23600  22000\n",
       "731 2020-05-28          21550                239030    20000  21550  20000\n",
       "732 2020-05-27          19600                250910    17900  19660  17900\n",
       "733 2020-05-26          17880                 32246    16860  17880  16520\n",
       "734 2020-05-25          16500                 15888    16200  16800  16180\n",
       "\n",
       "[735 rows x 6 columns]"
      ]
     },
     "execution_count": 3,
     "metadata": {},
     "output_type": "execute_result"
    }
   ],
   "source": [
    "df"
   ]
  },
  {
   "cell_type": "markdown",
   "metadata": {},
   "source": [
    "# **Apply Lump Sum Strategy**\n",
    "#### Lump Sum is the strategy of going all in hoping the market price goes up.\n",
    "**Assumptions**\n",
    "\n",
    "- we only have 36000000 Riels"
   ]
  },
  {
   "cell_type": "code",
   "execution_count": 4,
   "metadata": {},
   "outputs": [],
   "source": [
    "total_investments = 36000000"
   ]
  },
  {
   "cell_type": "code",
   "execution_count": 5,
   "metadata": {},
   "outputs": [
    {
     "name": "stdout",
     "output_type": "stream",
     "text": [
      "Number of Shares Bought :  2222.222222222222  Shares\n"
     ]
    }
   ],
   "source": [
    "shares_bought = total_investments/df['Opening'].iloc[-1]\n",
    "print(\"Number of Shares Bought : \", shares_bought , \" Shares\")"
   ]
  },
  {
   "cell_type": "code",
   "execution_count": 6,
   "metadata": {},
   "outputs": [
    {
     "data": {
      "text/html": [
       "<div>\n",
       "<style scoped>\n",
       "    .dataframe tbody tr th:only-of-type {\n",
       "        vertical-align: middle;\n",
       "    }\n",
       "\n",
       "    .dataframe tbody tr th {\n",
       "        vertical-align: top;\n",
       "    }\n",
       "\n",
       "    .dataframe thead th {\n",
       "        text-align: right;\n",
       "    }\n",
       "</style>\n",
       "<table border=\"1\" class=\"dataframe\">\n",
       "  <thead>\n",
       "    <tr style=\"text-align: right;\">\n",
       "      <th></th>\n",
       "      <th>Date</th>\n",
       "      <th>Closing Price</th>\n",
       "      <th>Trading Volume (shr)</th>\n",
       "      <th>Opening</th>\n",
       "      <th>High</th>\n",
       "      <th>Low</th>\n",
       "    </tr>\n",
       "  </thead>\n",
       "  <tbody>\n",
       "    <tr>\n",
       "      <th>497</th>\n",
       "      <td>2021-05-25</td>\n",
       "      <td>16460</td>\n",
       "      <td>11209</td>\n",
       "      <td>16400</td>\n",
       "      <td>16480</td>\n",
       "      <td>16380</td>\n",
       "    </tr>\n",
       "  </tbody>\n",
       "</table>\n",
       "</div>"
      ],
      "text/plain": [
       "          Date  Closing Price  Trading Volume (shr)  Opening   High    Low\n",
       "497 2021-05-25          16460                 11209    16400  16480  16380"
      ]
     },
     "execution_count": 6,
     "metadata": {},
     "output_type": "execute_result"
    }
   ],
   "source": [
    "df[df['Date'] == '2021-05-25']"
   ]
  },
  {
   "cell_type": "code",
   "execution_count": 7,
   "metadata": {},
   "outputs": [
    {
     "name": "stdout",
     "output_type": "stream",
     "text": [
      "The value of your shares at the end of year 1: 36444444.44444444 riels \n",
      "\n",
      "If you sell now you would get : 0.0123 returns\n"
     ]
    }
   ],
   "source": [
    "year1 = shares_bought * df['Opening'].iloc[497]\n",
    "print(f\"The value of your shares at the end of year 1: {year1} riels \\n\")\n",
    "\n",
    "r1 = round(year1/total_investments - 1, 4)\n",
    "print(f\"If you sell now you would get : {r1} returns\")"
   ]
  },
  {
   "cell_type": "code",
   "execution_count": 8,
   "metadata": {},
   "outputs": [
    {
     "data": {
      "text/html": [
       "<div>\n",
       "<style scoped>\n",
       "    .dataframe tbody tr th:only-of-type {\n",
       "        vertical-align: middle;\n",
       "    }\n",
       "\n",
       "    .dataframe tbody tr th {\n",
       "        vertical-align: top;\n",
       "    }\n",
       "\n",
       "    .dataframe thead th {\n",
       "        text-align: right;\n",
       "    }\n",
       "</style>\n",
       "<table border=\"1\" class=\"dataframe\">\n",
       "  <thead>\n",
       "    <tr style=\"text-align: right;\">\n",
       "      <th></th>\n",
       "      <th>Date</th>\n",
       "      <th>Closing Price</th>\n",
       "      <th>Trading Volume (shr)</th>\n",
       "      <th>Opening</th>\n",
       "      <th>High</th>\n",
       "      <th>Low</th>\n",
       "    </tr>\n",
       "  </thead>\n",
       "  <tbody>\n",
       "    <tr>\n",
       "      <th>251</th>\n",
       "      <td>2022-05-25</td>\n",
       "      <td>11360</td>\n",
       "      <td>122773</td>\n",
       "      <td>11340</td>\n",
       "      <td>11360</td>\n",
       "      <td>11320</td>\n",
       "    </tr>\n",
       "  </tbody>\n",
       "</table>\n",
       "</div>"
      ],
      "text/plain": [
       "          Date  Closing Price  Trading Volume (shr)  Opening   High    Low\n",
       "251 2022-05-25          11360                122773    11340  11360  11320"
      ]
     },
     "execution_count": 8,
     "metadata": {},
     "output_type": "execute_result"
    }
   ],
   "source": [
    "df[df['Date'] == '2022-05-25']"
   ]
  },
  {
   "cell_type": "code",
   "execution_count": 9,
   "metadata": {},
   "outputs": [
    {
     "name": "stdout",
     "output_type": "stream",
     "text": [
      "The value of your shares at the end of year 2: 25200000.0 riels \n",
      "\n",
      "If you sell now, your return would be : -0.3085 returns\n"
     ]
    }
   ],
   "source": [
    "year2 = shares_bought * df['Opening'].iloc[251]\n",
    "print(f\"The value of your shares at the end of year 2: {year2} riels \\n\")\n",
    "\n",
    "r2 = round(year2/year1 - 1, 4)\n",
    "print(f\"If you sell now, your return would be : {r2} returns\")"
   ]
  },
  {
   "cell_type": "code",
   "execution_count": 10,
   "metadata": {},
   "outputs": [
    {
     "data": {
      "text/html": [
       "<div>\n",
       "<style scoped>\n",
       "    .dataframe tbody tr th:only-of-type {\n",
       "        vertical-align: middle;\n",
       "    }\n",
       "\n",
       "    .dataframe tbody tr th {\n",
       "        vertical-align: top;\n",
       "    }\n",
       "\n",
       "    .dataframe thead th {\n",
       "        text-align: right;\n",
       "    }\n",
       "</style>\n",
       "<table border=\"1\" class=\"dataframe\">\n",
       "  <thead>\n",
       "    <tr style=\"text-align: right;\">\n",
       "      <th></th>\n",
       "      <th>Date</th>\n",
       "      <th>Closing Price</th>\n",
       "      <th>Trading Volume (shr)</th>\n",
       "      <th>Opening</th>\n",
       "      <th>High</th>\n",
       "      <th>Low</th>\n",
       "    </tr>\n",
       "  </thead>\n",
       "  <tbody>\n",
       "    <tr>\n",
       "      <th>0</th>\n",
       "      <td>2023-05-25</td>\n",
       "      <td>10240</td>\n",
       "      <td>63438</td>\n",
       "      <td>10220</td>\n",
       "      <td>10240</td>\n",
       "      <td>10220</td>\n",
       "    </tr>\n",
       "  </tbody>\n",
       "</table>\n",
       "</div>"
      ],
      "text/plain": [
       "        Date  Closing Price  Trading Volume (shr)  Opening   High    Low\n",
       "0 2023-05-25          10240                 63438    10220  10240  10220"
      ]
     },
     "execution_count": 10,
     "metadata": {},
     "output_type": "execute_result"
    }
   ],
   "source": [
    "df[df['Date'] == '2023-05-25']"
   ]
  },
  {
   "cell_type": "code",
   "execution_count": 11,
   "metadata": {},
   "outputs": [
    {
     "name": "stdout",
     "output_type": "stream",
     "text": [
      "The value of your shares at the end of year 3: 22711111.111111112 riels \n",
      "\n",
      "If you sell now you would get : -0.0988 returns\n"
     ]
    }
   ],
   "source": [
    "year3 = shares_bought * df['Opening'].iloc[0]\n",
    "print(f\"The value of your shares at the end of year 3: {year3} riels \\n\")\n",
    "\n",
    "r3 = round(year3/year2 - 1, 4)\n",
    "print(f\"If you sell now you would get : {r3} returns\")"
   ]
  },
  {
   "cell_type": "markdown",
   "metadata": {},
   "source": [
    "# **Dollar Cost Averaging (DCA) Strategy**\n",
    "#### DCA is the practice of investing a fixed dollar amount on a regular basis, regardless of the share price.\n",
    "\n",
    "**Assumptions**\n",
    "- We only have 36000000 riels\n",
    "- We invest 1000000 riels per month for 36 months"
   ]
  },
  {
   "cell_type": "code",
   "execution_count": 12,
   "metadata": {},
   "outputs": [],
   "source": [
    "fixed_investment = 1000000"
   ]
  },
  {
   "cell_type": "code",
   "execution_count": 13,
   "metadata": {},
   "outputs": [],
   "source": [
    "m1 = fixed_investment/df['Opening'].iloc[-1]\n",
    "m2 = fixed_investment/df['Opening'].iloc[712]\n",
    "m3 = fixed_investment/df['Opening'].iloc[690]\n",
    "m4 = fixed_investment/df['Opening'].iloc[674]\n",
    "m5 = fixed_investment/df['Opening'].iloc[655]\n",
    "m6 = fixed_investment/df['Opening'].iloc[635]\n",
    "m7 = fixed_investment/df['Opening'].iloc[617]\n",
    "m8 = fixed_investment/df['Opening'].iloc[595]\n",
    "m9 = fixed_investment/df['Opening'].iloc[576]\n",
    "m10 = fixed_investment/df['Opening'].iloc[553]\n",
    "m11 = fixed_investment/df['Opening'].iloc[534]\n",
    "m12 = fixed_investment/df['Opening'].iloc[515]"
   ]
  },
  {
   "cell_type": "code",
   "execution_count": 14,
   "metadata": {},
   "outputs": [
    {
     "name": "stdout",
     "output_type": "stream",
     "text": [
      "You owned a total of 644.4342047354885 shares\n",
      "The value of your shares : 10852272.007745625 riels\n",
      "You invested 12000000 riels\n",
      "The return for year 1 : -0.0956 returns\n"
     ]
    }
   ],
   "source": [
    "sh1 = m1+m2+m4+m5+m6+m7+m8+m9+m10+m11+m12\n",
    "print(f\"You owned a total of {sh1} shares\")\n",
    "v1 = sh1*df['Closing Price'].iloc[515]\n",
    "print(f\"The value of your shares : {v1} riels\")\n",
    "print(\"You invested\", fixed_investment*12, \"riels\")\n",
    "\n",
    "rd1 = round(v1/(fixed_investment*12) - 1, 4)\n",
    "print(f\"The return for year 1 : {rd1} returns\")"
   ]
  },
  {
   "cell_type": "code",
   "execution_count": 15,
   "metadata": {},
   "outputs": [
    {
     "data": {
      "text/html": [
       "<div>\n",
       "<style scoped>\n",
       "    .dataframe tbody tr th:only-of-type {\n",
       "        vertical-align: middle;\n",
       "    }\n",
       "\n",
       "    .dataframe tbody tr th {\n",
       "        vertical-align: top;\n",
       "    }\n",
       "\n",
       "    .dataframe thead th {\n",
       "        text-align: right;\n",
       "    }\n",
       "</style>\n",
       "<table border=\"1\" class=\"dataframe\">\n",
       "  <thead>\n",
       "    <tr style=\"text-align: right;\">\n",
       "      <th></th>\n",
       "      <th>Date</th>\n",
       "      <th>Closing Price</th>\n",
       "      <th>Trading Volume (shr)</th>\n",
       "      <th>Opening</th>\n",
       "      <th>High</th>\n",
       "      <th>Low</th>\n",
       "    </tr>\n",
       "  </thead>\n",
       "  <tbody>\n",
       "    <tr>\n",
       "      <th>272</th>\n",
       "      <td>2022-04-25</td>\n",
       "      <td>12360</td>\n",
       "      <td>15342879</td>\n",
       "      <td>12360</td>\n",
       "      <td>12480</td>\n",
       "      <td>12300</td>\n",
       "    </tr>\n",
       "  </tbody>\n",
       "</table>\n",
       "</div>"
      ],
      "text/plain": [
       "          Date  Closing Price  Trading Volume (shr)  Opening   High    Low\n",
       "272 2022-04-25          12360              15342879    12360  12480  12300"
      ]
     },
     "execution_count": 15,
     "metadata": {},
     "output_type": "execute_result"
    }
   ],
   "source": [
    "df[df['Date'] == '2022-04-25']"
   ]
  },
  {
   "cell_type": "code",
   "execution_count": 16,
   "metadata": {},
   "outputs": [],
   "source": [
    "m13 = fixed_investment/df['Opening'].iloc[497]\n",
    "m14 = fixed_investment/df['Opening'].iloc[475]\n",
    "m15 = fixed_investment/df['Opening'].iloc[454]\n",
    "m16 = fixed_investment/df['Opening'].iloc[432]\n",
    "m17 = fixed_investment/df['Opening'].iloc[410]\n",
    "m18 = fixed_investment/df['Opening'].iloc[394]\n",
    "m19 = fixed_investment/df['Opening'].iloc[375]\n",
    "m20 = fixed_investment/df['Opening'].iloc[353]\n",
    "m21 = fixed_investment/df['Opening'].iloc[333]\n",
    "m22 = fixed_investment/df['Opening'].iloc[310]\n",
    "m23 = fixed_investment/df['Opening'].iloc[291]\n",
    "m24 = fixed_investment/df['Opening'].iloc[272]"
   ]
  },
  {
   "cell_type": "code",
   "execution_count": 17,
   "metadata": {},
   "outputs": [
    {
     "name": "stdout",
     "output_type": "stream",
     "text": [
      "You owned a total of 985.556598076971 shares\n",
      "The value of your shares : 12181479.552231362 riels\n",
      "You invested 12000000 riels\n",
      "The return for year 2 : 0.0151 returns\n"
     ]
    }
   ],
   "source": [
    "sh2 = m13+m14+m15+m16+m17+m18+m19+m20+m21+m22+m23+m24\n",
    "print(f\"You owned a total of {sh2} shares\")\n",
    "v2 = sh2*df['Closing Price'].iloc[272]\n",
    "print(f\"The value of your shares : {v2} riels\")\n",
    "print(\"You invested\", fixed_investment*12, \"riels\")\n",
    "\n",
    "rd2 = round(v2/(fixed_investment*12) - 1, 4)\n",
    "print(f\"The return for year 2 : {rd2} returns\")"
   ]
  },
  {
   "cell_type": "code",
   "execution_count": 18,
   "metadata": {},
   "outputs": [
    {
     "data": {
      "text/html": [
       "<div>\n",
       "<style scoped>\n",
       "    .dataframe tbody tr th:only-of-type {\n",
       "        vertical-align: middle;\n",
       "    }\n",
       "\n",
       "    .dataframe tbody tr th {\n",
       "        vertical-align: top;\n",
       "    }\n",
       "\n",
       "    .dataframe thead th {\n",
       "        text-align: right;\n",
       "    }\n",
       "</style>\n",
       "<table border=\"1\" class=\"dataframe\">\n",
       "  <thead>\n",
       "    <tr style=\"text-align: right;\">\n",
       "      <th></th>\n",
       "      <th>Date</th>\n",
       "      <th>Closing Price</th>\n",
       "      <th>Trading Volume (shr)</th>\n",
       "      <th>Opening</th>\n",
       "      <th>High</th>\n",
       "      <th>Low</th>\n",
       "    </tr>\n",
       "  </thead>\n",
       "  <tbody>\n",
       "    <tr>\n",
       "      <th>19</th>\n",
       "      <td>2023-04-25</td>\n",
       "      <td>11380</td>\n",
       "      <td>79089</td>\n",
       "      <td>11500</td>\n",
       "      <td>11520</td>\n",
       "      <td>11340</td>\n",
       "    </tr>\n",
       "  </tbody>\n",
       "</table>\n",
       "</div>"
      ],
      "text/plain": [
       "         Date  Closing Price  Trading Volume (shr)  Opening   High    Low\n",
       "19 2023-04-25          11380                 79089    11500  11520  11340"
      ]
     },
     "execution_count": 18,
     "metadata": {},
     "output_type": "execute_result"
    }
   ],
   "source": [
    "df[df['Date'] == '2023-04-25']"
   ]
  },
  {
   "cell_type": "code",
   "execution_count": 19,
   "metadata": {},
   "outputs": [],
   "source": [
    "m25 = fixed_investment/df['Opening'].iloc[251]\n",
    "m26 = fixed_investment/df['Opening'].iloc[229]\n",
    "m27 = fixed_investment/df['Opening'].iloc[209]\n",
    "m28 = fixed_investment/df['Opening'].iloc[186]\n",
    "m29 = fixed_investment/df['Opening'].iloc[164]\n",
    "m30 = fixed_investment/df['Opening'].iloc[144]\n",
    "m31 = fixed_investment/df['Opening'].iloc[124]\n",
    "m32 = fixed_investment/df['Opening'].iloc[103]\n",
    "m33 = fixed_investment/df['Opening'].iloc[81]\n",
    "m34 = fixed_investment/df['Opening'].iloc[58]\n",
    "m35 = fixed_investment/df['Opening'].iloc[39]\n",
    "m36 = fixed_investment/df['Opening'].iloc[19]"
   ]
  },
  {
   "cell_type": "code",
   "execution_count": 20,
   "metadata": {},
   "outputs": [
    {
     "name": "stdout",
     "output_type": "stream",
     "text": [
      "You owned a total of 1115.1448262261117 shares\n",
      "The value of your shares : 12690348.122453151 riels\n",
      "You invested 12000000 riels\n",
      "The return for year 3 : 0.0151 returns\n"
     ]
    }
   ],
   "source": [
    "sh3 = m25+m26+m27+m28+m29+m30+m31+m32+m33+m34+m35+m36\n",
    "print(f\"You owned a total of {sh3} shares\")\n",
    "v3 = sh3*df['Closing Price'].iloc[19]\n",
    "print(f\"The value of your shares : {v3} riels\")\n",
    "print(\"You invested\", fixed_investment*12, \"riels\")\n",
    "\n",
    "rd3 = round(v2/(fixed_investment*12) - 1, 4)\n",
    "print(f\"The return for year 3 : {rd3} returns\")"
   ]
  },
  {
   "cell_type": "markdown",
   "metadata": {},
   "source": [
    "# **Anuual Returns of Both Strategies**"
   ]
  },
  {
   "cell_type": "code",
   "execution_count": 21,
   "metadata": {},
   "outputs": [
    {
     "name": "stdout",
     "output_type": "stream",
     "text": [
      "Average of Annual Returns of LS:  -0.1317\n",
      "Average of Annual Returns of DCA:  -0.0218\n",
      "Standard Deviations of Annual Returns of LS: 0.133\n",
      "Standard Deviations of Annual Returns of DCA: 0.0522\n"
     ]
    }
   ],
   "source": [
    "lump = [r1, r2, r3]\n",
    "dca = [rd1, rd2, rd3]\n",
    "\n",
    "print('Average of Annual Returns of LS: ', round(np.mean(lump), 4))\n",
    "print('Average of Annual Returns of DCA: ', round(np.mean(dca), 4))\n",
    "print('Standard Deviations of Annual Returns of LS:', round(np.std(lump), 4))\n",
    "print('Standard Deviations of Annual Returns of DCA:', round(np.std(dca), 4))"
   ]
  },
  {
   "cell_type": "markdown",
   "metadata": {},
   "source": [
    "# **Test for Two Population Means**"
   ]
  },
  {
   "cell_type": "markdown",
   "metadata": {},
   "source": [
    "### **Method 1 : Using Critical Region**"
   ]
  },
  {
   "cell_type": "markdown",
   "metadata": {},
   "source": [
    "Test $H_0$ : $\\mu_1 - \\mu_2 = 0$  vs  $H_a$ : $\\mu_1 - \\mu_2 \\ne 0$\n",
    "\n",
    "We have \n",
    "\n",
    "significance level $\\alpha = 0.05$\n",
    "\n",
    "$\\bar{X} = -0.1317$\n",
    "\n",
    "$\\bar{Y} = -0.0435$ \n",
    "\n",
    "$m=n=735$\n",
    "\n",
    "$s_1 = 0.133$\n",
    "\n",
    "$s_2 = 0.0828$\n",
    "\n",
    "\n",
    "Test statistic Value $ z = \\dfrac{\\bar{X} - \\bar{Y} - (\\mu_1 - \\mu_2)}{\\sqrt{\\dfrac{s_1^2}{m} + \\dfrac{s_2^2}{n}}} $\n",
    "$ = \\dfrac{-0.1317+0.0435}{\\sqrt{\\dfrac{0.133^2}{735} + \\dfrac{0.0828^2}{735}}} = -15.26$\n",
    "\n",
    "\n",
    "$z_{\\frac{\\alpha}{2}} = \\phi^{-1}(1 - \\frac{\\alpha}{2}) = \\phi^{-1}(0.975) = 1.96$ \n",
    "\n",
    "$\\text{Critical Region } C = \\{ z: |z| \\geq z_{\\frac{\\alpha}{2}} = 1.96 \\}$ \n",
    "\n",
    "Since $z \\in C$, we decide to reject $H_0$ at $\\alpha = 0.05$.\n",
    "\n",
    "Thus, there is enough evidence to support the claim $\\mu_1 \\ne \\mu_2$ and we can say there are significant differences in the average annual returns between Investment Strategy A and Investment Strategy B."
   ]
  },
  {
   "cell_type": "markdown",
   "metadata": {},
   "source": [
    "### **Method 2 : Using Confidence Interval**"
   ]
  },
  {
   "cell_type": "markdown",
   "metadata": {},
   "source": [
    "$CI(\\mu_1 - \\mu_2) = \\left[ \\bar{X} - \\bar{Y} \\pm z_{\\frac{\\alpha}{2}} \\sqrt{\\dfrac{s_1^2}{m} + \\dfrac{s_2^2}{n}} \\right] = \\left[-0.11, -0.065\\right]$\n",
    "\n",
    "Since $0 \\notin CI$,\n",
    "\n",
    "Therefore, we decide to reject the null hypothesis that $\\mu_1 - \\mu_2 = 0$"
   ]
  },
  {
   "cell_type": "markdown",
   "metadata": {},
   "source": [
    "# **Test for 2 Population Varainces**"
   ]
  },
  {
   "cell_type": "markdown",
   "metadata": {},
   "source": [
    "### **Method 1 : Using Critical Region**"
   ]
  },
  {
   "cell_type": "markdown",
   "metadata": {},
   "source": [
    "Test $H_0$ : $\\sigma_1^2 = \\sigma_2^2$ vs $H_a$ : $\\sigma_1^2 \\ne \\sigma_2^2$\n",
    "\n",
    "We have\n",
    "\n",
    "significance level $\\alpha = 0.05$\n",
    "\n",
    "$s_1 = 0.133$\n",
    "\n",
    "$s_2 = 0.0828$\n",
    "\n",
    "$m=n=735$\n",
    "\n",
    "Test statistic value $f = \\dfrac{s_1^2}{s_2^2} = \\dfrac{0.133^2}{0.0828^2} = 2.58$\n",
    "\n",
    "Critical Region $C = \\{ f : f \\geq F_{\\frac{\\alpha}{2} , m-1, n-1} \\text{ or } f \\leq F_{1- \\frac{\\alpha}{2} , m-1, n-1}  \\}$\n",
    "\n",
    "$F_{\\frac{\\alpha}{2} , m-1, n-1} = F_{0.025, 734, 734} = 1.15 $\n",
    "\n",
    "$F_{1- \\frac{\\alpha}{2} , m-1, n-1} = F_{0.975, 734, 734} = 0.86$\n",
    "\n",
    "Since $f \\in C$, then $H_0$ is rejected.\n",
    "\n",
    "Thus, we could say the distribution of risk (standard deviation of returns) vary significantly between the two investment strategies."
   ]
  },
  {
   "cell_type": "markdown",
   "metadata": {},
   "source": [
    "### **Method 2 : Using Confidence Interval**"
   ]
  },
  {
   "cell_type": "markdown",
   "metadata": {},
   "source": [
    "$CI\\left(\\dfrac{\\sigma_1}{\\sigma_2}\\right) = \\left[ \\dfrac{\\sigma_1}{\\sigma_2} \\cdot \\dfrac{1}{\\sqrt{F_{\\frac{\\alpha}{2} , m-1, n-1} }},\n",
    "\\dfrac{\\sigma_1}{\\sigma_2} \\cdot \\sqrt{F_{\\frac{\\alpha}{2} , m-1, n-1} }\\right] = [1.49, 1.72]$\n",
    "\n",
    "Since $1 \\notin CI$,\n",
    "\n",
    "Therefore, we decide to reject the Null Hypothesis that $\\sigma_1^2 = \\sigma_2^2$"
   ]
  }
 ],
 "metadata": {
  "kernelspec": {
   "display_name": "Python 3",
   "language": "python",
   "name": "python3"
  },
  "language_info": {
   "codemirror_mode": {
    "name": "ipython",
    "version": 3
   },
   "file_extension": ".py",
   "mimetype": "text/x-python",
   "name": "python",
   "nbconvert_exporter": "python",
   "pygments_lexer": "ipython3",
   "version": "3.11.5"
  }
 },
 "nbformat": 4,
 "nbformat_minor": 2
}
